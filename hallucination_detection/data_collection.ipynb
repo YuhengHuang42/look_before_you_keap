{
 "cells": [
  {
   "attachments": {},
   "cell_type": "markdown",
   "metadata": {},
   "source": [
    "## Load datasets and unify the formats for later process\n",
    "\n",
    "Current target task: Question-and-Answering\n",
    "- Long text generation\n",
    "- Open-domain QA\n",
    "\n",
    "### Candidate datasets\n",
    "1. Wiki_QA:\n",
    "    - Question + Answer\n",
    "\n",
    "    - Link: https://huggingface.co/datasets/wiki_qa \n",
    "    <br>\n",
    "    \n",
    "2. natural_QA\n",
    "    - Context + Question + Answer\n",
    "    \n",
    "    - Link: https://huggingface.co/datasets/lucadiliello/naturalquestionsshortqa\n",
    "    <br>\n",
    "\n",
    "3. ELI5-final\n",
    "    - Question + Answer\n",
    "\n",
    "    - Link: https://huggingface.co/datasets/Rahmaa/eli5_final\n",
    "    <br>\n",
    "\n",
    "4. ELI5-category\n",
    "    - Question + Answer\n",
    "\n",
    "    - Link: https://huggingface.co/datasets/eli5_category\n",
    "    <br>\n",
    "\n",
    "5. Squad\n",
    "    - Context + Question + Answer\n",
    "    \n",
    "    - Link: https://huggingface.co/datasets/TimoImhof/TriviaQA-in-SQuAD-format\n",
    "    <br>\n",
    "\n",
    "> Note: For datasets with context given, the context can be used as additional information to justify the response from LLM.\n"
   ]
  },
  {
   "cell_type": "code",
   "execution_count": 1,
   "metadata": {},
   "outputs": [],
   "source": [
    "import numpy as np\n",
    "from numpy import log2, prod, mean\n",
    "import pandas as pd\n",
    "from datasets import load_dataset"
   ]
  },
  {
   "cell_type": "code",
   "execution_count": 4,
   "metadata": {},
   "outputs": [],
   "source": [
    "def SaveToCSV(source, dataset_name, target_key, target_column, answer_key, save_path, is_label=False, is_context=False):\n",
    "    \"\"\"\n",
    "    source: name of dataset to load from API\n",
    "    dataset_name:   name of the datset to save\n",
    "    target_key:     name of the target splits in datasets\n",
    "    target_column:  name of the columns to keep in each df\n",
    "    answer_key:     if answer is dict, only keep the selected content\n",
    "    is_label:       if the dataset is mixed with wrong answers\n",
    "    is_context:     if this QA has given context\n",
    "    \"\"\"\n",
    "\n",
    "    # Load datasets from API\n",
    "    dataset = load_dataset(source)\n",
    "    print(f\"dataset: {source}, keys: {list(dataset.keys())} \\n\")\n",
    "\n",
    "    output_dict = {}\n",
    "\n",
    "    # extract data from target categories\n",
    "    for key in target_key:\n",
    "        # convert to pandas df\n",
    "        df = dataset[key].to_pandas()\n",
    "\n",
    "        # only take rows with true lable\n",
    "        if is_label:\n",
    "            df = df[df['label'] == 1].reset_index()\n",
    "\n",
    "        # drop redundant deatures/columns\n",
    "        keys_to_drop  = [ele for ele in list(df.keys()) if ele not in target_column]\n",
    "        df = df.drop(keys_to_drop, axis=1)\n",
    "\n",
    "        # rename column\n",
    "        if is_context:\n",
    "            df = df.rename(columns={target_column[0]: \"question\", target_column[1]: \"answer\", target_column[2]: \"context\"})\n",
    "        else:\n",
    "            df = df.rename(columns={target_column[0]: \"question\", target_column[1]: \"answer\"})\n",
    "\n",
    "        # map answer as text format\n",
    "        if len(answer_key) != 0:\n",
    "            df[\"answer\"] = df[\"answer\"].apply(lambda x: x[answer_key[0]][0])\n",
    "        \n",
    "        # log info\n",
    "        print(f\"key: {key}, num: {len(df)} \\n\")\n",
    "        output_dict[key] = df\n",
    "\n",
    "    # save as csv\n",
    "    for key in output_dict.keys():\n",
    "        output_dict[key].to_csv(save_path + dataset_name + \"_\" + key + \".csv\", index=False)"
   ]
  },
  {
   "cell_type": "code",
   "execution_count": 118,
   "metadata": {},
   "outputs": [
    {
     "name": "stderr",
     "output_type": "stream",
     "text": [
      "No config specified, defaulting to: eli5_category/default\n",
      "Found cached dataset eli5_category (/Users/jiayangsong/.cache/huggingface/datasets/eli5_category/default/1.0.0/80106cc49322f1f5075e1387be4a5b74b95e0f56c40ff142b8999d0606aa1908)\n"
     ]
    },
    {
     "data": {
      "application/vnd.jupyter.widget-view+json": {
       "model_id": "7ffd2476455e4f139d14c24e107e760f",
       "version_major": 2,
       "version_minor": 0
      },
      "text/plain": [
       "  0%|          | 0/4 [00:00<?, ?it/s]"
      ]
     },
     "metadata": {},
     "output_type": "display_data"
    },
    {
     "name": "stdout",
     "output_type": "stream",
     "text": [
      "dataset: eli5_category, keys: ['train', 'validation1', 'validation2', 'test'] \n",
      "\n",
      "key: train, num: 91772 \n",
      "\n",
      "key: test, num: 5411 \n",
      "\n"
     ]
    }
   ],
   "source": [
    "source = \"eli5_category\"\n",
    "dataset_name = \"eli5_category\"\n",
    "save_path = \"/Users/jiayangsong/Documents/git/LLM_analysis/hallucination_detection/data/\"\n",
    "answer_key = [\"text\"]\n",
    "target_key = [\"train\", \"test\"]\n",
    "target_column = [\"title\", \"answers\"]\n",
    "is_label = False\n",
    "is_context = False\n",
    "SaveToCSV(dataset_name, target_key, target_column, answer_key,save_path, is_label, is_context)\n",
    "\n",
    "\n",
    "source = \"wiki_qa\"\n",
    "dataset_name = \"wiki_qa\"\n",
    "save_path = \"/Users/jiayangsong/Documents/git/LLM_analysis/hallucination_detection/data/\"\n",
    "answer_key = []\n",
    "target_key = [\"train\", \"test\"]\n",
    "target_column = [\"question\", \"answer\"]\n",
    "is_label = True\n",
    "is_context = False\n",
    "\n",
    "SaveToCSV(dataset_name, target_key, target_column, answer_key,save_path, is_label, is_context)\n",
    "\n",
    "source = \"TimoImhof/TriviaQA-in-SQuAD-format\"\n",
    "dataset_name = \"squad\"\n",
    "save_path = \"/Users/jiayangsong/Documents/git/LLM_analysis/hallucination_detection/data/\"\n",
    "answer_key = [\"text\"]\n",
    "target_key = [\"unmodified\"]\n",
    "target_column = [\"question\", \"answers\", \"context\"]\n",
    "is_label = False\n",
    "is_context = True\n",
    "\n",
    "SaveToCSV(source, dataset_name, target_key, target_column, answer_key,save_path, is_label, is_context)\n",
    "\n",
    "source = \"lucadiliello/naturalquestionsshortqa\"\n",
    "dataset_name = \"natural_qa\"\n",
    "save_path = \"/Users/jiayangsong/Documents/git/LLM_analysis/hallucination_detection/data/\"\n",
    "answer_key = []\n",
    "target_key = [\"train\", \"validation\"]\n",
    "target_column = [\"question\", \"answers\", \"context\"]\n",
    "is_label = False\n",
    "is_context = True\n",
    "\n",
    "SaveToCSV(source, dataset_name, target_key, target_column, answer_key,save_path, is_label, is_context)\n",
    "\n",
    "\n",
    "source = \"Rahmaa/eli5_final\"\n",
    "dataset_name = \"eli5_final\"\n",
    "save_path = \"/Users/jiayangsong/Documents/git/LLM_analysis/hallucination_detection/data/\"\n",
    "answer_key = []\n",
    "target_key = [\"train\", \"test\", \"validation\"]\n",
    "target_column = [\"query\", \"answer\"]\n",
    "is_label = False\n",
    "is_context = False\n",
    "SaveToCSV(source, dataset_name, target_key, target_column, answer_key,save_path, is_label, is_context)"
   ]
  },
  {
   "cell_type": "code",
   "execution_count": 47,
   "metadata": {},
   "outputs": [],
   "source": [
    "# load dataset \n",
    "load_path = \"/Users/jiayangsong/Documents/git/LLM_analysis/hallucination_detection/data/\"\n",
    "dataset_name = \"wiki_qa_test.csv\"\n",
    "name_to_save = \"wiki_qa_test_new.csv\"\n",
    "\n",
    "df = pd.read_csv(load_path+dataset_name)\n",
    "new_df = pd.DataFrame(columns=df.columns.values)\n",
    "\n",
    "for i, question in enumerate(df[\"question\"]):\n",
    "      sub_df = df[df[\"question\"] == question]\n",
    "      if sub_df.shape[0] > 1:\n",
    "            answer = \" \".join(sub_df[\"answer\"].values)\n",
    "            new_df.loc[i] = [question, answer]\n",
    "      else:\n",
    "            new_df.loc[i] = [question, sub_df[\"answer\"].values[0]]\n",
    "new_df = new_df.drop_duplicates(subset=['question']).reset_index(drop=True)\n",
    "\n",
    "new_df.to_csv(save_path + name_to_save, index=False)"
   ]
  },
  {
   "cell_type": "code",
   "execution_count": 16,
   "metadata": {},
   "outputs": [
    {
     "name": "stderr",
     "output_type": "stream",
     "text": [
      "Found cached dataset wmt16 (/Users/jiayangsong/.cache/huggingface/datasets/wmt16/cs-en/1.0.0/746749a11d25c02058042da7502d973ff410e73457f3d305fc1177dc0e8c4227)\n"
     ]
    },
    {
     "data": {
      "application/vnd.jupyter.widget-view+json": {
       "model_id": "59bdd59929194ad0b7d17972f143e3da",
       "version_major": 2,
       "version_minor": 0
      },
      "text/plain": [
       "  0%|          | 0/3 [00:00<?, ?it/s]"
      ]
     },
     "metadata": {},
     "output_type": "display_data"
    },
    {
     "name": "stdout",
     "output_type": "stream",
     "text": [
      "Downloading and preparing dataset wmt16/de-en to /Users/jiayangsong/.cache/huggingface/datasets/wmt16/de-en/1.0.0/746749a11d25c02058042da7502d973ff410e73457f3d305fc1177dc0e8c4227...\n"
     ]
    },
    {
     "data": {
      "application/vnd.jupyter.widget-view+json": {
       "model_id": "deffd58ffa9b4a3d9d33d2bd3c2421b2",
       "version_major": 2,
       "version_minor": 0
      },
      "text/plain": [
       "Downloading data files:   0%|          | 0/5 [00:00<?, ?it/s]"
      ]
     },
     "metadata": {},
     "output_type": "display_data"
    },
    {
     "data": {
      "application/vnd.jupyter.widget-view+json": {
       "model_id": "2387d7c14d5c4ad7a829fb77595656f7",
       "version_major": 2,
       "version_minor": 0
      },
      "text/plain": [
       "Extracting data files:   0%|          | 0/5 [00:00<?, ?it/s]"
      ]
     },
     "metadata": {},
     "output_type": "display_data"
    },
    {
     "data": {
      "application/vnd.jupyter.widget-view+json": {
       "model_id": "cb30f7c77032441dae6b058ac891b1b7",
       "version_major": 2,
       "version_minor": 0
      },
      "text/plain": [
       "Extracting data files: 0it [00:00, ?it/s]"
      ]
     },
     "metadata": {},
     "output_type": "display_data"
    },
    {
     "data": {
      "application/vnd.jupyter.widget-view+json": {
       "model_id": "8a9ec4dc47a8420fbe309ecc40ed864a",
       "version_major": 2,
       "version_minor": 0
      },
      "text/plain": [
       "Generating train split:   0%|          | 0/4548885 [00:00<?, ? examples/s]"
      ]
     },
     "metadata": {},
     "output_type": "display_data"
    },
    {
     "data": {
      "application/vnd.jupyter.widget-view+json": {
       "model_id": "09cd135b64fb497595caf85e0e8eecfc",
       "version_major": 2,
       "version_minor": 0
      },
      "text/plain": [
       "Generating validation split:   0%|          | 0/2169 [00:00<?, ? examples/s]"
      ]
     },
     "metadata": {},
     "output_type": "display_data"
    },
    {
     "data": {
      "application/vnd.jupyter.widget-view+json": {
       "model_id": "136f27662e604814bb980337fe265456",
       "version_major": 2,
       "version_minor": 0
      },
      "text/plain": [
       "Generating test split:   0%|          | 0/2999 [00:00<?, ? examples/s]"
      ]
     },
     "metadata": {},
     "output_type": "display_data"
    },
    {
     "name": "stdout",
     "output_type": "stream",
     "text": [
      "Dataset wmt16 downloaded and prepared to /Users/jiayangsong/.cache/huggingface/datasets/wmt16/de-en/1.0.0/746749a11d25c02058042da7502d973ff410e73457f3d305fc1177dc0e8c4227. Subsequent calls will reuse this data.\n"
     ]
    },
    {
     "data": {
      "application/vnd.jupyter.widget-view+json": {
       "model_id": "e9a1f5c748c847168ccd4ff7ef6ab991",
       "version_major": 2,
       "version_minor": 0
      },
      "text/plain": [
       "  0%|          | 0/3 [00:00<?, ?it/s]"
      ]
     },
     "metadata": {},
     "output_type": "display_data"
    },
    {
     "name": "stdout",
     "output_type": "stream",
     "text": [
      "Downloading and preparing dataset wmt16/fi-en to /Users/jiayangsong/.cache/huggingface/datasets/wmt16/fi-en/1.0.0/746749a11d25c02058042da7502d973ff410e73457f3d305fc1177dc0e8c4227...\n"
     ]
    },
    {
     "data": {
      "application/vnd.jupyter.widget-view+json": {
       "model_id": "60b064a99d2344dba11606607d85a46c",
       "version_major": 2,
       "version_minor": 0
      },
      "text/plain": [
       "Downloading data files:   0%|          | 0/5 [00:00<?, ?it/s]"
      ]
     },
     "metadata": {},
     "output_type": "display_data"
    },
    {
     "data": {
      "application/vnd.jupyter.widget-view+json": {
       "model_id": "29563478e43e41438ff27141491dc506",
       "version_major": 2,
       "version_minor": 0
      },
      "text/plain": [
       "Downloading data:   0%|          | 0.00/225M [00:00<?, ?B/s]"
      ]
     },
     "metadata": {},
     "output_type": "display_data"
    },
    {
     "data": {
      "application/vnd.jupyter.widget-view+json": {
       "model_id": "a016c5c69bf24c6da61c72d66ce245fe",
       "version_major": 2,
       "version_minor": 0
      },
      "text/plain": [
       "Downloading data:   0%|          | 0.00/9.49M [00:00<?, ?B/s]"
      ]
     },
     "metadata": {},
     "output_type": "display_data"
    },
    {
     "data": {
      "application/vnd.jupyter.widget-view+json": {
       "model_id": "c530cbf7377b44f193e5423d780cb13d",
       "version_major": 2,
       "version_minor": 0
      },
      "text/plain": [
       "Extracting data files:   0%|          | 0/5 [00:00<?, ?it/s]"
      ]
     },
     "metadata": {},
     "output_type": "display_data"
    },
    {
     "data": {
      "application/vnd.jupyter.widget-view+json": {
       "model_id": "a116a1e38c1a4754ad35f2af1b7c3b85",
       "version_major": 2,
       "version_minor": 0
      },
      "text/plain": [
       "Extracting data files: 0it [00:00, ?it/s]"
      ]
     },
     "metadata": {},
     "output_type": "display_data"
    },
    {
     "data": {
      "application/vnd.jupyter.widget-view+json": {
       "model_id": "cd7f449bd163456e80a90982fe08128d",
       "version_major": 2,
       "version_minor": 0
      },
      "text/plain": [
       "Generating train split:   0%|          | 0/2073394 [00:00<?, ? examples/s]"
      ]
     },
     "metadata": {},
     "output_type": "display_data"
    },
    {
     "data": {
      "application/vnd.jupyter.widget-view+json": {
       "model_id": "370968584dbe47338dd4486ad7d0e5f6",
       "version_major": 2,
       "version_minor": 0
      },
      "text/plain": [
       "Generating validation split:   0%|          | 0/1370 [00:00<?, ? examples/s]"
      ]
     },
     "metadata": {},
     "output_type": "display_data"
    },
    {
     "data": {
      "application/vnd.jupyter.widget-view+json": {
       "model_id": "6cfa1f98f15346bb87daecb22a214a42",
       "version_major": 2,
       "version_minor": 0
      },
      "text/plain": [
       "Generating test split:   0%|          | 0/6000 [00:00<?, ? examples/s]"
      ]
     },
     "metadata": {},
     "output_type": "display_data"
    },
    {
     "name": "stdout",
     "output_type": "stream",
     "text": [
      "Dataset wmt16 downloaded and prepared to /Users/jiayangsong/.cache/huggingface/datasets/wmt16/fi-en/1.0.0/746749a11d25c02058042da7502d973ff410e73457f3d305fc1177dc0e8c4227. Subsequent calls will reuse this data.\n"
     ]
    },
    {
     "data": {
      "application/vnd.jupyter.widget-view+json": {
       "model_id": "1827b2c7266448e8bd1a92a6f998d952",
       "version_major": 2,
       "version_minor": 0
      },
      "text/plain": [
       "  0%|          | 0/3 [00:00<?, ?it/s]"
      ]
     },
     "metadata": {},
     "output_type": "display_data"
    },
    {
     "name": "stdout",
     "output_type": "stream",
     "text": [
      "Downloading and preparing dataset wmt16/ro-en to /Users/jiayangsong/.cache/huggingface/datasets/wmt16/ro-en/1.0.0/746749a11d25c02058042da7502d973ff410e73457f3d305fc1177dc0e8c4227...\n"
     ]
    },
    {
     "data": {
      "application/vnd.jupyter.widget-view+json": {
       "model_id": "5082d3f82dbd4e918ae12b162dfcb8b8",
       "version_major": 2,
       "version_minor": 0
      },
      "text/plain": [
       "Downloading data files:   0%|          | 0/4 [00:00<?, ?it/s]"
      ]
     },
     "metadata": {},
     "output_type": "display_data"
    },
    {
     "data": {
      "application/vnd.jupyter.widget-view+json": {
       "model_id": "7fa71b74775e4fdc9e711ed7dc1ffcd2",
       "version_major": 2,
       "version_minor": 0
      },
      "text/plain": [
       "Downloading data:   0%|          | 0.00/23.5M [00:00<?, ?B/s]"
      ]
     },
     "metadata": {},
     "output_type": "display_data"
    },
    {
     "data": {
      "application/vnd.jupyter.widget-view+json": {
       "model_id": "99bb34b88a024b1aa0f249840b34814f",
       "version_major": 2,
       "version_minor": 0
      },
      "text/plain": [
       "Extracting data files:   0%|          | 0/4 [00:00<?, ?it/s]"
      ]
     },
     "metadata": {},
     "output_type": "display_data"
    },
    {
     "data": {
      "application/vnd.jupyter.widget-view+json": {
       "model_id": "ff33cd9d36c849599f1cc669f491679e",
       "version_major": 2,
       "version_minor": 0
      },
      "text/plain": [
       "Extracting data files: 0it [00:00, ?it/s]"
      ]
     },
     "metadata": {},
     "output_type": "display_data"
    },
    {
     "data": {
      "application/vnd.jupyter.widget-view+json": {
       "model_id": "c7d19eaea98f48fc8a23d8671e8cc335",
       "version_major": 2,
       "version_minor": 0
      },
      "text/plain": [
       "Generating train split:   0%|          | 0/610320 [00:00<?, ? examples/s]"
      ]
     },
     "metadata": {},
     "output_type": "display_data"
    },
    {
     "data": {
      "application/vnd.jupyter.widget-view+json": {
       "model_id": "f05588d0dc2e4d0aadea1c015ee33790",
       "version_major": 2,
       "version_minor": 0
      },
      "text/plain": [
       "Generating validation split:   0%|          | 0/1999 [00:00<?, ? examples/s]"
      ]
     },
     "metadata": {},
     "output_type": "display_data"
    },
    {
     "data": {
      "application/vnd.jupyter.widget-view+json": {
       "model_id": "59a116d1d1884e3dae70b96df10fa3d3",
       "version_major": 2,
       "version_minor": 0
      },
      "text/plain": [
       "Generating test split:   0%|          | 0/1999 [00:00<?, ? examples/s]"
      ]
     },
     "metadata": {},
     "output_type": "display_data"
    },
    {
     "name": "stdout",
     "output_type": "stream",
     "text": [
      "Dataset wmt16 downloaded and prepared to /Users/jiayangsong/.cache/huggingface/datasets/wmt16/ro-en/1.0.0/746749a11d25c02058042da7502d973ff410e73457f3d305fc1177dc0e8c4227. Subsequent calls will reuse this data.\n"
     ]
    },
    {
     "data": {
      "application/vnd.jupyter.widget-view+json": {
       "model_id": "434f1422de2b4e42b6716427d3b2d089",
       "version_major": 2,
       "version_minor": 0
      },
      "text/plain": [
       "  0%|          | 0/3 [00:00<?, ?it/s]"
      ]
     },
     "metadata": {},
     "output_type": "display_data"
    },
    {
     "name": "stdout",
     "output_type": "stream",
     "text": [
      "Downloading and preparing dataset wmt16/ru-en to /Users/jiayangsong/.cache/huggingface/datasets/wmt16/ru-en/1.0.0/746749a11d25c02058042da7502d973ff410e73457f3d305fc1177dc0e8c4227...\n"
     ]
    },
    {
     "data": {
      "application/vnd.jupyter.widget-view+json": {
       "model_id": "46ae55020c834070bd36c0010a962117",
       "version_major": 2,
       "version_minor": 0
      },
      "text/plain": [
       "Downloading data files:   0%|          | 0/5 [00:00<?, ?it/s]"
      ]
     },
     "metadata": {},
     "output_type": "display_data"
    },
    {
     "data": {
      "application/vnd.jupyter.widget-view+json": {
       "model_id": "d37993c0be2d45eeb60de3226ac39c00",
       "version_major": 2,
       "version_minor": 0
      },
      "text/plain": [
       "Extracting data files:   0%|          | 0/5 [00:00<?, ?it/s]"
      ]
     },
     "metadata": {},
     "output_type": "display_data"
    },
    {
     "data": {
      "application/vnd.jupyter.widget-view+json": {
       "model_id": "4a0446058b774efa87972907c58d2a7d",
       "version_major": 2,
       "version_minor": 0
      },
      "text/plain": [
       "Extracting data files: 0it [00:00, ?it/s]"
      ]
     },
     "metadata": {},
     "output_type": "display_data"
    },
    {
     "data": {
      "application/vnd.jupyter.widget-view+json": {
       "model_id": "03569954c90a47f89acc9d7bb86899a6",
       "version_major": 2,
       "version_minor": 0
      },
      "text/plain": [
       "Generating train split:   0%|          | 0/1516162 [00:00<?, ? examples/s]"
      ]
     },
     "metadata": {},
     "output_type": "display_data"
    },
    {
     "data": {
      "application/vnd.jupyter.widget-view+json": {
       "model_id": "562b2812517641c1ac6470464f38290e",
       "version_major": 2,
       "version_minor": 0
      },
      "text/plain": [
       "Generating validation split:   0%|          | 0/2818 [00:00<?, ? examples/s]"
      ]
     },
     "metadata": {},
     "output_type": "display_data"
    },
    {
     "data": {
      "application/vnd.jupyter.widget-view+json": {
       "model_id": "790e479c7b3645bb886dad5d506fc9a9",
       "version_major": 2,
       "version_minor": 0
      },
      "text/plain": [
       "Generating test split:   0%|          | 0/2998 [00:00<?, ? examples/s]"
      ]
     },
     "metadata": {},
     "output_type": "display_data"
    },
    {
     "name": "stdout",
     "output_type": "stream",
     "text": [
      "Dataset wmt16 downloaded and prepared to /Users/jiayangsong/.cache/huggingface/datasets/wmt16/ru-en/1.0.0/746749a11d25c02058042da7502d973ff410e73457f3d305fc1177dc0e8c4227. Subsequent calls will reuse this data.\n"
     ]
    },
    {
     "data": {
      "application/vnd.jupyter.widget-view+json": {
       "model_id": "56aac725f94a41e1bf265a4a75bd77a5",
       "version_major": 2,
       "version_minor": 0
      },
      "text/plain": [
       "  0%|          | 0/3 [00:00<?, ?it/s]"
      ]
     },
     "metadata": {},
     "output_type": "display_data"
    },
    {
     "name": "stdout",
     "output_type": "stream",
     "text": [
      "Downloading and preparing dataset wmt16/tr-en to /Users/jiayangsong/.cache/huggingface/datasets/wmt16/tr-en/1.0.0/746749a11d25c02058042da7502d973ff410e73457f3d305fc1177dc0e8c4227...\n"
     ]
    },
    {
     "data": {
      "application/vnd.jupyter.widget-view+json": {
       "model_id": "905b3a17a16644dc8a1152c2222f01f5",
       "version_major": 2,
       "version_minor": 0
      },
      "text/plain": [
       "Downloading data files:   0%|          | 0/3 [00:00<?, ?it/s]"
      ]
     },
     "metadata": {},
     "output_type": "display_data"
    },
    {
     "data": {
      "application/vnd.jupyter.widget-view+json": {
       "model_id": "ff98a5c361f2484e8b9a2bae91d2fef3",
       "version_major": 2,
       "version_minor": 0
      },
      "text/plain": [
       "Downloading data:   0%|          | 0.00/23.5M [00:00<?, ?B/s]"
      ]
     },
     "metadata": {},
     "output_type": "display_data"
    },
    {
     "data": {
      "application/vnd.jupyter.widget-view+json": {
       "model_id": "ea11240cfafd445ca5c858a4b8a074c5",
       "version_major": 2,
       "version_minor": 0
      },
      "text/plain": [
       "Extracting data files:   0%|          | 0/3 [00:00<?, ?it/s]"
      ]
     },
     "metadata": {},
     "output_type": "display_data"
    },
    {
     "data": {
      "application/vnd.jupyter.widget-view+json": {
       "model_id": "8e6ba0e5da6249dfaa670ec0a857e313",
       "version_major": 2,
       "version_minor": 0
      },
      "text/plain": [
       "Extracting data files: 0it [00:00, ?it/s]"
      ]
     },
     "metadata": {},
     "output_type": "display_data"
    },
    {
     "data": {
      "application/vnd.jupyter.widget-view+json": {
       "model_id": "58fe148359cf4dd894a4f13642e4dc3f",
       "version_major": 2,
       "version_minor": 0
      },
      "text/plain": [
       "Generating train split:   0%|          | 0/205756 [00:00<?, ? examples/s]"
      ]
     },
     "metadata": {},
     "output_type": "display_data"
    },
    {
     "data": {
      "application/vnd.jupyter.widget-view+json": {
       "model_id": "41d3311451204d908562ff3fe69a7a54",
       "version_major": 2,
       "version_minor": 0
      },
      "text/plain": [
       "Generating validation split:   0%|          | 0/1001 [00:00<?, ? examples/s]"
      ]
     },
     "metadata": {},
     "output_type": "display_data"
    },
    {
     "data": {
      "application/vnd.jupyter.widget-view+json": {
       "model_id": "ce6c7a092ce8425fb658766c88f2ee3e",
       "version_major": 2,
       "version_minor": 0
      },
      "text/plain": [
       "Generating test split:   0%|          | 0/3000 [00:00<?, ? examples/s]"
      ]
     },
     "metadata": {},
     "output_type": "display_data"
    },
    {
     "name": "stdout",
     "output_type": "stream",
     "text": [
      "Dataset wmt16 downloaded and prepared to /Users/jiayangsong/.cache/huggingface/datasets/wmt16/tr-en/1.0.0/746749a11d25c02058042da7502d973ff410e73457f3d305fc1177dc0e8c4227. Subsequent calls will reuse this data.\n"
     ]
    },
    {
     "data": {
      "application/vnd.jupyter.widget-view+json": {
       "model_id": "8b7ccfcc6f0b4f50b66c975da419546b",
       "version_major": 2,
       "version_minor": 0
      },
      "text/plain": [
       "  0%|          | 0/3 [00:00<?, ?it/s]"
      ]
     },
     "metadata": {},
     "output_type": "display_data"
    }
   ],
   "source": [
    "type = ['cs-en', 'de-en', 'fi-en', 'ro-en', 'ru-en', 'tr-en']\n",
    "target = [\"cs\", \"de\", \"fi\", \"ro\", \"ru\", \"tr\"]\n",
    "\n",
    "\n",
    "for i in range(len(type)):\n",
    "    dataset = load_dataset(\"wmt16\", type[i])\n",
    "    df = dataset[\"train\"].to_pandas()\n",
    "    question = []\n",
    "    answer = []\n",
    "    for index, row in df.iterrows():\n",
    "        question.append(row[\"translation\"][target[i]])\n",
    "        answer.append(row[\"translation\"][\"en\"])\n",
    "\n",
    "    df['question'] = question\n",
    "    df['answer'] = answer\n",
    "    df_tosave = df.drop('translation', axis=1)\n",
    "    save_path = \"/Users/jiayangsong/Documents/git/LLM_analysis/data/translation/\"\n",
    "    df_tosave.to_csv(save_path + \"wmt16_\" + type[i] + \"_train\" + \".csv\", index=False)\n"
   ]
  },
  {
   "cell_type": "code",
   "execution_count": 21,
   "metadata": {},
   "outputs": [
    {
     "name": "stderr",
     "output_type": "stream",
     "text": [
      "Found cached dataset cnn_dailymail (/Users/jiayangsong/.cache/huggingface/datasets/cnn_dailymail/3.0.0/3.0.0/1b3c71476f6d152c31c1730e83ccb08bcf23e348233f4fcc11e182248e6bf7de)\n"
     ]
    },
    {
     "data": {
      "application/vnd.jupyter.widget-view+json": {
       "model_id": "2cba1007da5b417a82b86293c3f0c855",
       "version_major": 2,
       "version_minor": 0
      },
      "text/plain": [
       "  0%|          | 0/3 [00:00<?, ?it/s]"
      ]
     },
     "metadata": {},
     "output_type": "display_data"
    },
    {
     "name": "stdout",
     "output_type": "stream",
     "text": [
      "Downloading and preparing dataset cnn_dailymail/1.0.0 to /Users/jiayangsong/.cache/huggingface/datasets/cnn_dailymail/1.0.0/1.0.0/1b3c71476f6d152c31c1730e83ccb08bcf23e348233f4fcc11e182248e6bf7de...\n"
     ]
    },
    {
     "data": {
      "application/vnd.jupyter.widget-view+json": {
       "model_id": "1d7c9b2e7a974c9a934719305ad17117",
       "version_major": 2,
       "version_minor": 0
      },
      "text/plain": [
       "Downloading data files:   0%|          | 0/5 [00:00<?, ?it/s]"
      ]
     },
     "metadata": {},
     "output_type": "display_data"
    },
    {
     "data": {
      "application/vnd.jupyter.widget-view+json": {
       "model_id": "a94c5fe868d84c25bac5999f54ed8a08",
       "version_major": 2,
       "version_minor": 0
      },
      "text/plain": [
       "Generating train split:   0%|          | 0/287113 [00:00<?, ? examples/s]"
      ]
     },
     "metadata": {},
     "output_type": "display_data"
    },
    {
     "data": {
      "application/vnd.jupyter.widget-view+json": {
       "model_id": "62baa5cdc02345169442f8868d2faa65",
       "version_major": 2,
       "version_minor": 0
      },
      "text/plain": [
       "Generating validation split:   0%|          | 0/13368 [00:00<?, ? examples/s]"
      ]
     },
     "metadata": {},
     "output_type": "display_data"
    },
    {
     "data": {
      "application/vnd.jupyter.widget-view+json": {
       "model_id": "da4721d260b04800b50b2c899f13576b",
       "version_major": 2,
       "version_minor": 0
      },
      "text/plain": [
       "Generating test split:   0%|          | 0/11490 [00:00<?, ? examples/s]"
      ]
     },
     "metadata": {},
     "output_type": "display_data"
    },
    {
     "name": "stdout",
     "output_type": "stream",
     "text": [
      "Dataset cnn_dailymail downloaded and prepared to /Users/jiayangsong/.cache/huggingface/datasets/cnn_dailymail/1.0.0/1.0.0/1b3c71476f6d152c31c1730e83ccb08bcf23e348233f4fcc11e182248e6bf7de. Subsequent calls will reuse this data.\n"
     ]
    },
    {
     "data": {
      "application/vnd.jupyter.widget-view+json": {
       "model_id": "425e31a5202249d2a23989b1c996730e",
       "version_major": 2,
       "version_minor": 0
      },
      "text/plain": [
       "  0%|          | 0/3 [00:00<?, ?it/s]"
      ]
     },
     "metadata": {},
     "output_type": "display_data"
    },
    {
     "name": "stdout",
     "output_type": "stream",
     "text": [
      "Downloading and preparing dataset cnn_dailymail/2.0.0 to /Users/jiayangsong/.cache/huggingface/datasets/cnn_dailymail/2.0.0/2.0.0/1b3c71476f6d152c31c1730e83ccb08bcf23e348233f4fcc11e182248e6bf7de...\n"
     ]
    },
    {
     "data": {
      "application/vnd.jupyter.widget-view+json": {
       "model_id": "0adacc93c15a44008b8cd91958d9bc8e",
       "version_major": 2,
       "version_minor": 0
      },
      "text/plain": [
       "Downloading data files:   0%|          | 0/5 [00:00<?, ?it/s]"
      ]
     },
     "metadata": {},
     "output_type": "display_data"
    },
    {
     "data": {
      "application/vnd.jupyter.widget-view+json": {
       "model_id": "0de71636cd64433ca388c07988153599",
       "version_major": 2,
       "version_minor": 0
      },
      "text/plain": [
       "Generating train split:   0%|          | 0/287113 [00:00<?, ? examples/s]"
      ]
     },
     "metadata": {},
     "output_type": "display_data"
    },
    {
     "data": {
      "application/vnd.jupyter.widget-view+json": {
       "model_id": "e684b048cf82426d836fa9a87e87a5c8",
       "version_major": 2,
       "version_minor": 0
      },
      "text/plain": [
       "Generating validation split:   0%|          | 0/13368 [00:00<?, ? examples/s]"
      ]
     },
     "metadata": {},
     "output_type": "display_data"
    },
    {
     "data": {
      "application/vnd.jupyter.widget-view+json": {
       "model_id": "ddc3e19a1d9a4b458d6beb765fb05500",
       "version_major": 2,
       "version_minor": 0
      },
      "text/plain": [
       "Generating test split:   0%|          | 0/11490 [00:00<?, ? examples/s]"
      ]
     },
     "metadata": {},
     "output_type": "display_data"
    },
    {
     "name": "stdout",
     "output_type": "stream",
     "text": [
      "Dataset cnn_dailymail downloaded and prepared to /Users/jiayangsong/.cache/huggingface/datasets/cnn_dailymail/2.0.0/2.0.0/1b3c71476f6d152c31c1730e83ccb08bcf23e348233f4fcc11e182248e6bf7de. Subsequent calls will reuse this data.\n"
     ]
    },
    {
     "data": {
      "application/vnd.jupyter.widget-view+json": {
       "model_id": "d49e3dd170b04551850101589a40c677",
       "version_major": 2,
       "version_minor": 0
      },
      "text/plain": [
       "  0%|          | 0/3 [00:00<?, ?it/s]"
      ]
     },
     "metadata": {},
     "output_type": "display_data"
    }
   ],
   "source": [
    "type = ['3.0.0', '1.0.0', '2.0.0']\n",
    "\n",
    "for i in range(len(type)):\n",
    "    dataset = load_dataset(\"cnn_dailymail\", type[i])\n",
    "    df = dataset[\"train\"].to_pandas()\n",
    "    question = []\n",
    "    answer = []\n",
    "    for index, row in df.iterrows():\n",
    "        question.append(row[\"article\"])\n",
    "        answer.append(row[\"highlights\"])\n",
    "\n",
    "    df['question'] = question\n",
    "    df['answer'] = answer\n",
    "    df_tosave = df.drop(['highlights', \"article\", \"id\"], axis=1)\n",
    "    save_path = \"/Users/jiayangsong/Documents/git/LLM_analysis/data/summarization/\"\n",
    "    df_tosave.to_csv(save_path + \"cnn_dailymail_\" + type[i] + \"_train\" + \".csv\", index=False)\n"
   ]
  }
 ],
 "metadata": {
  "kernelspec": {
   "display_name": "Python 3",
   "language": "python",
   "name": "python3"
  },
  "language_info": {
   "codemirror_mode": {
    "name": "ipython",
    "version": 3
   },
   "file_extension": ".py",
   "mimetype": "text/x-python",
   "name": "python",
   "nbconvert_exporter": "python",
   "pygments_lexer": "ipython3",
   "version": "3.8.9"
  },
  "orig_nbformat": 4
 },
 "nbformat": 4,
 "nbformat_minor": 2
}
